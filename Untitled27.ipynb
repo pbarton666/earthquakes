{
 "cells": [
  {
   "cell_type": "code",
   "execution_count": 1,
   "id": "a62102a9",
   "metadata": {},
   "outputs": [],
   "source": [
    "import geopandas as gp"
   ]
  },
  {
   "cell_type": "code",
   "execution_count": 2,
   "id": "df4fd126",
   "metadata": {},
   "outputs": [
    {
     "data": {
      "text/plain": [
       "<module 'geopandas' from 'C:\\\\Anaconda3\\\\envs\\\\gpd\\\\lib\\\\site-packages\\\\geopandas\\\\__init__.py'>"
      ]
     },
     "execution_count": 2,
     "metadata": {},
     "output_type": "execute_result"
    }
   ],
   "source": [
    "gp"
   ]
  },
  {
   "cell_type": "code",
   "execution_count": null,
   "id": "e7caaef0",
   "metadata": {},
   "outputs": [],
   "source": []
  }
 ],
 "metadata": {
  "kernelspec": {
   "display_name": "gpd",
   "language": "python",
   "name": "gpd"
  },
  "language_info": {
   "codemirror_mode": {
    "name": "ipython",
    "version": 3
   },
   "file_extension": ".py",
   "mimetype": "text/x-python",
   "name": "python",
   "nbconvert_exporter": "python",
   "pygments_lexer": "ipython3",
   "version": "3.9.6"
  }
 },
 "nbformat": 4,
 "nbformat_minor": 5
}
