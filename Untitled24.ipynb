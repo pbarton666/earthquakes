{
 "cells": [
  {
   "cell_type": "code",
   "execution_count": null,
   "id": "f494085d",
   "metadata": {},
   "outputs": [],
   "source": []
  }
 ],
 "metadata": {
  "kernelspec": {
   "display_name": "gpd",
   "language": "python",
   "name": "gpd"
  }
 },
 "nbformat": 4,
 "nbformat_minor": 5
}
