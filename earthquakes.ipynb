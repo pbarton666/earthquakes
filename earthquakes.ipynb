{
 "cells": [
  {
   "cell_type": "markdown",
   "metadata": {
    "toc": true
   },
   "source": [
    "<h1>Table of Contents<span class=\"tocSkip\"></span></h1>\n",
    "<div class=\"toc\"><ul class=\"toc-item\"><li><span><a href=\"#Resources\" data-toc-modified-id=\"Resources-1\"><span class=\"toc-item-num\">1&nbsp;&nbsp;</span>Resources</a></span></li></ul></div>"
   ]
  },
  {
   "cell_type": "markdown",
   "metadata": {},
   "source": [
    "## Resources\n",
    "https://www.forbes.comsitesjamesconca20160907the-connection-between-earthquakes-and-fracking#13e0e3ff6d68\n",
    "\n",
    "http://news.nationalgeographic.comnews201403140310-earthquakes-usgs-california-faults-science https://en.wikipedia.orgwikiSeismic_wave "
   ]
  },
  {
   "cell_type": "code",
   "execution_count": null,
   "metadata": {},
   "outputs": [],
   "source": [
    "# Imports\n",
    "\n",
    "import os\n",
    "import math\n",
    "\n",
    "import numpy as np\n",
    "import pandas as pd\n",
    "import scipy\n",
    "\n",
    "import matplotlib.pyplot as plt\n",
    "import seaborn as sns\n",
    "\n",
    "import utilities.utils as utils"
   ]
  },
  {
   "cell_type": "code",
   "execution_count": null,
   "metadata": {},
   "outputs": [],
   "source": [
    "help(pd.read_csv)"
   ]
  },
  {
   "cell_type": "code",
   "execution_count": null,
   "metadata": {},
   "outputs": [],
   "source": [
    "# Display options\n",
    "%matplotlib inline\n",
    "utils.pd_display(max_rows=None, max_cols=100)\n",
    "\n",
    "pd.set_option('max_rows', None)"
   ]
  },
  {
   "cell_type": "code",
   "execution_count": 23,
   "metadata": {
    "scrolled": true
   },
   "outputs": [
    {
     "data": {
      "text/html": [
       "<div>\n",
       "<style scoped>\n",
       "    .dataframe tbody tr th:only-of-type {\n",
       "        vertical-align: middle;\n",
       "    }\n",
       "\n",
       "    .dataframe tbody tr th {\n",
       "        vertical-align: top;\n",
       "    }\n",
       "\n",
       "    .dataframe thead th {\n",
       "        text-align: right;\n",
       "    }\n",
       "</style>\n",
       "<table border=\"1\" class=\"dataframe\">\n",
       "  <thead>\n",
       "    <tr style=\"text-align: right;\">\n",
       "      <th></th>\n",
       "      <th>time</th>\n",
       "      <th>lat</th>\n",
       "      <th>long</th>\n",
       "      <th>depth</th>\n",
       "      <th>mag</th>\n",
       "      <th>place</th>\n",
       "      <th>type</th>\n",
       "    </tr>\n",
       "    <tr>\n",
       "      <th>time</th>\n",
       "      <th></th>\n",
       "      <th></th>\n",
       "      <th></th>\n",
       "      <th></th>\n",
       "      <th></th>\n",
       "      <th></th>\n",
       "      <th></th>\n",
       "    </tr>\n",
       "  </thead>\n",
       "  <tbody>\n",
       "    <tr>\n",
       "      <th>2017-09-19 16:56:50.540000+00:00</th>\n",
       "      <td>2017-09-19T16:56:50.540Z</td>\n",
       "      <td>36.020500</td>\n",
       "      <td>-117.765667</td>\n",
       "      <td>1.520</td>\n",
       "      <td>2.45</td>\n",
       "      <td>16km NE of Little Lake, CA</td>\n",
       "      <td>earthquake</td>\n",
       "    </tr>\n",
       "    <tr>\n",
       "      <th>2017-09-19 16:15:29.900000+00:00</th>\n",
       "      <td>2017-09-19T16:15:29.900Z</td>\n",
       "      <td>37.510502</td>\n",
       "      <td>-118.833832</td>\n",
       "      <td>2.630</td>\n",
       "      <td>2.92</td>\n",
       "      <td>19km SE of Mammoth Lakes, California</td>\n",
       "      <td>earthquake</td>\n",
       "    </tr>\n",
       "    <tr>\n",
       "      <th>2017-09-19 15:35:09.030000+00:00</th>\n",
       "      <td>2017-09-19T15:35:09.030Z</td>\n",
       "      <td>42.617400</td>\n",
       "      <td>-111.483500</td>\n",
       "      <td>4.520</td>\n",
       "      <td>3.10</td>\n",
       "      <td>10km ESE of Soda Springs, Idaho</td>\n",
       "      <td>earthquake</td>\n",
       "    </tr>\n",
       "    <tr>\n",
       "      <th>2017-09-19 15:27:13.670000+00:00</th>\n",
       "      <td>2017-09-19T15:27:13.670Z</td>\n",
       "      <td>42.613500</td>\n",
       "      <td>-111.442900</td>\n",
       "      <td>8.340</td>\n",
       "      <td>3.50</td>\n",
       "      <td>14km ESE of Soda Springs, Idaho</td>\n",
       "      <td>earthquake</td>\n",
       "    </tr>\n",
       "    <tr>\n",
       "      <th>2017-09-19 15:26:56.200000+00:00</th>\n",
       "      <td>2017-09-19T15:26:56.200Z</td>\n",
       "      <td>36.451600</td>\n",
       "      <td>-98.796500</td>\n",
       "      <td>6.125</td>\n",
       "      <td>2.50</td>\n",
       "      <td>34km NW of Fairview, Oklahoma</td>\n",
       "      <td>earthquake</td>\n",
       "    </tr>\n",
       "  </tbody>\n",
       "</table>\n",
       "</div>"
      ],
      "text/plain": [
       "                                                      time        lat  \\\n",
       "time                                                                    \n",
       "2017-09-19 16:56:50.540000+00:00  2017-09-19T16:56:50.540Z  36.020500   \n",
       "2017-09-19 16:15:29.900000+00:00  2017-09-19T16:15:29.900Z  37.510502   \n",
       "2017-09-19 15:35:09.030000+00:00  2017-09-19T15:35:09.030Z  42.617400   \n",
       "2017-09-19 15:27:13.670000+00:00  2017-09-19T15:27:13.670Z  42.613500   \n",
       "2017-09-19 15:26:56.200000+00:00  2017-09-19T15:26:56.200Z  36.451600   \n",
       "\n",
       "                                        long  depth   mag  \\\n",
       "time                                                        \n",
       "2017-09-19 16:56:50.540000+00:00 -117.765667  1.520  2.45   \n",
       "2017-09-19 16:15:29.900000+00:00 -118.833832  2.630  2.92   \n",
       "2017-09-19 15:35:09.030000+00:00 -111.483500  4.520  3.10   \n",
       "2017-09-19 15:27:13.670000+00:00 -111.442900  8.340  3.50   \n",
       "2017-09-19 15:26:56.200000+00:00  -98.796500  6.125  2.50   \n",
       "\n",
       "                                                                 place  \\\n",
       "time                                                                     \n",
       "2017-09-19 16:56:50.540000+00:00            16km NE of Little Lake, CA   \n",
       "2017-09-19 16:15:29.900000+00:00  19km SE of Mammoth Lakes, California   \n",
       "2017-09-19 15:35:09.030000+00:00       10km ESE of Soda Springs, Idaho   \n",
       "2017-09-19 15:27:13.670000+00:00       14km ESE of Soda Springs, Idaho   \n",
       "2017-09-19 15:26:56.200000+00:00         34km NW of Fairview, Oklahoma   \n",
       "\n",
       "                                        type  \n",
       "time                                          \n",
       "2017-09-19 16:56:50.540000+00:00  earthquake  \n",
       "2017-09-19 16:15:29.900000+00:00  earthquake  \n",
       "2017-09-19 15:35:09.030000+00:00  earthquake  \n",
       "2017-09-19 15:27:13.670000+00:00  earthquake  \n",
       "2017-09-19 15:26:56.200000+00:00  earthquake  "
      ]
     },
     "execution_count": 23,
     "metadata": {},
     "output_type": "execute_result"
    }
   ],
   "source": [
    "# Data\n",
    "datafile = 'earthquakes.csv'\n",
    "path = 'data'\n",
    "filename = os.path.join('.', path, datafile)\n",
    "\n",
    "# Read it in\n",
    "usecols = ['time', 'latitude', 'longitude', 'depth', 'mag', 'place', 'type' ]\n",
    "df = pd.read_csv(filename, usecols=usecols, parse_dates=True)\n",
    "\n",
    "# Clean it up\n",
    "df.rename({'longitude': 'long', 'latitude': 'lat'}, axis=1, inplace=True)\n",
    "\n",
    "df.index = pd.to_datetime(df[\"time\"])\n",
    "\n",
    "df['day'] = df.index.day\n",
    "df['month'] = df.index.month\n",
    "df['year'] = df.index.year\n",
    "\n",
    "df.drop('time', axis=1, inplace=True)\n",
    "df.head()"
   ]
  },
  {
   "attachments": {
    "graphics.PNG": {
     "image/png": "[encoded data removed]"
    }
   },
   "cell_type": "markdown",
   "metadata": {},
   "source": [
    "Function to figure out the distance between an earthquake hypocenter and a fracking hypocenter.\n",
    "\n",
    "![graphics.PNG](attachment:graphics.PNG)"
   ]
  },
  {
   "cell_type": "markdown",
   "metadata": {},
   "source": [
    "The USGS measures quake depth (km), magnitude, time, and location of every earthquake.   From this we can derive the distance between the actual fracking (typically 2-3 km) and the actual earthquake site (hypocenter.\n",
    "\n",
    "We want the actual distance between the earthquake hypocenter and the fracking location.   This metric isn't perfect - the earthquake hypocenter is \"where it all began\" as opposed to all the places the rupture propogated.   But at least it can be consistent across events.\n",
    "\n",
    "Using a bit of trig:\n",
    "\n",
    "a = earth_radius - quake_depth\n",
    "b = earth_radius - frack_depth\n",
    "theta = haversine_dist(fracking_site, quake_epicenter) / earth_circumferance\n",
    "\n",
    "dist = c = a**2 + b**2 = 2*a*b*cos(theta)"
   ]
  },
  {
   "cell_type": "code",
   "execution_count": 72,
   "metadata": {},
   "outputs": [],
   "source": [
    "def rad_2_deg(rad):\n",
    "    return rad * 180 / pi\n",
    "\n",
    "def deg_2_rad(deg):\n",
    "    return deg * pi / 180\n",
    "\n",
    "def linear_dist_sphere(radius, surf_dist, depth_a, depth_b):\n",
    "    \"\"\" \n",
    "    The purpose of this function is to find the actual, linear distance between the hypocenter of \n",
    "    and earthquake and the bottom of a fracking well.  It's a more general problem/solution, though:\n",
    "    \n",
    "    returns c:  Linear distance through a sphere between two points at or beneath the surface of a sphere\n",
    "    inputs:\n",
    "        radius: radius of the sphere;       \n",
    "        surf_dist: 'Great Circle' distance between the epicenters of the two points, along surface of sphere;    \n",
    "        depth_a, depth_b:  Depth of each of the two points beneath the surface.\n",
    "    \n",
    "    \"\"\"\n",
    "    from math import cos, pi, sqrt\n",
    "    circumferance = 2 * pi * radius\n",
    "    theta_rad = (surf_dist / circumferance) * ( 2 * pi )\n",
    "    \n",
    "    a = radius - depth_a\n",
    "    b = radius - depth_b\n",
    "    c = sqrt(a**2 + b**2 - 2 * a * b * cos(theta_rad))\n",
    "    return c"
   ]
  },
  {
   "cell_type": "code",
   "execution_count": 81,
   "metadata": {},
   "outputs": [
    {
     "data": {
      "text/plain": [
       "1000.0421461111969"
      ]
     },
     "execution_count": 81,
     "metadata": {},
     "output_type": "execute_result"
    }
   ],
   "source": [
    "from math import cos, pi, sqrt\n",
    "\n",
    "RADIUS_EARTH_KM = 10# 6367\n",
    "RADIUS_EARTH_KM = 6367\n",
    "quake_depth = 0 \n",
    "frack_depth = 1000\n",
    "dummy_haversine_dist_km = 1000\n",
    "\n",
    "linear_dist_sphere(RADIUS_EARTH_KM, dummy_haversine_dist, quake_depth, frack_depth)\n",
    "\n",
    "\n",
    "#earth_circ_km = 2 * pi * RADIUS_EARTH_KM\n",
    "\n",
    "#a = RADIUS_EARTH_KM - quake_depth\n",
    "#b = RADIUS_EARTH_KM - frack_depth\n",
    "\n",
    "#theta_rad = (dummy_haversine_dist_km / earth_circ_km) * ( 2 * pi )\n",
    "#theta_deg = rad_2_deg(theta_rad)\n",
    "\n",
    "#dist = sqrt(a**2 + b**2 - 2 * a * b * cos(theta_rad))\n",
    "\n",
    "#print(f\"a: {a}  b: {b}  theta_rad: {theta_rad: .3f}  theta_deg {theta_deg:.2f}  dist {dist:.3f}  earth_circ: {earth_circ:.1f}\")"
   ]
  },
  {
   "cell_type": "code",
   "execution_count": 69,
   "metadata": {},
   "outputs": [
    {
     "data": {
      "text/plain": [
       "1.5707963267948966"
      ]
     },
     "execution_count": 69,
     "metadata": {},
     "output_type": "execute_result"
    }
   ],
   "source": [
    "theta / 2*pi"
   ]
  },
  {
   "cell_type": "code",
   "execution_count": 30,
   "metadata": {},
   "outputs": [
    {
     "name": "stdout",
     "output_type": "stream",
     "text": [
      "a: 6267  b: 6267  theta:  0.002  dist 245.409\n"
     ]
    }
   ],
   "source": [
    "RADIUS_EARTH_KM = 6367\n",
    "quake_depth = 100\n",
    "frack_depth = 100\n",
    "dummy_haversine_dist = 100\n",
    "earth_circ = 2 * pi * RADIUS_EARTH_KM\n",
    "\n",
    "a = RADIUS_EARTH_KM - quake_depth\n",
    "b = RADIUS_EARTH_KM - frack_depth\n",
    "theta = dummy_haversine_dist / earth_circ\n",
    "dist = a**2 + b**2 - (2 * a * b * cos(theta))\n",
    "\n",
    "print(f\"a: {a}  b: {b}  theta: {theta: .3f}  dist {dist:.3f}\")"
   ]
  },
  {
   "cell_type": "code",
   "execution_count": null,
   "metadata": {},
   "outputs": [],
   "source": [
    "# Make a datetime index and columns for year, month, day\n",
    "df.index = pd.to_datetime(df[\"time\"])\n",
    "df['day'] = df.index.day\n",
    "df['month'] = df.index.month\n",
    "df['year'] = df.index.year\n",
    "df.drop('time', axis=1, inplace=True)\n",
    "df"
   ]
  },
  {
   "cell_type": "code",
   "execution_count": null,
   "metadata": {},
   "outputs": [],
   "source": [
    "df.dtypes"
   ]
  },
  {
   "cell_type": "code",
   "execution_count": null,
   "metadata": {},
   "outputs": [],
   "source": [
    "# pick off just the desired columns\n",
    "df = pd.read_csv(filename, usecols=['depth', 'mag',  'place'])\n",
    "\n",
    "# parse out the 'place' column\n",
    "df['place'] = df['place'].astype(str)\n",
    "df['place'] = df['place'].str.split(',').str.get(1)\n",
    "df['place'] = df['place'].str.strip()\n",
    "df['place'] = df['place'].str.replace(\"CA\", \"California\")\n",
    "\n",
    "df.head(3)\n",
    "\n",
    "ok = df.query(\"place=='Oklahoma'\")\n",
    "cal = df.query(\"place=='California' and depth>0\")\n",
    "\n",
    "quakes = pd.concat([ok, cal])  # ok on top, then cal\n",
    "quakes.reset_index(inplace=True, drop=True)  # make new (unique) index\n",
    "quakes.head(2)"
   ]
  },
  {
   "cell_type": "code",
   "execution_count": null,
   "metadata": {},
   "outputs": [],
   "source": [
    "quakes.tail(2)"
   ]
  },
  {
   "cell_type": "code",
   "execution_count": null,
   "metadata": {},
   "outputs": [],
   "source": [
    "quakes.describe()"
   ]
  },
  {
   "cell_type": "code",
   "execution_count": null,
   "metadata": {},
   "outputs": [],
   "source": [
    "# dependent and independent variables\n",
    "print(quakes.columns)\n",
    "iv_names = ['depth', 'mag']\n",
    "dv_name = 'place'"
   ]
  },
  {
   "cell_type": "code",
   "execution_count": null,
   "metadata": {},
   "outputs": [],
   "source": [
    "# create categorical data descriptions\n",
    "auto_cats = pd.Categorical(quakes['place'])\n",
    "quakes['place_ix'] = auto_cats.codes\n",
    "quakes.head(2)\n",
    "auto_cats.describe()"
   ]
  },
  {
   "cell_type": "code",
   "execution_count": null,
   "metadata": {},
   "outputs": [],
   "source": [
    "# have a look\n",
    "sns.set()\n",
    "sns.pairplot(quakes[['depth', 'mag', 'place']],\n",
    "             hue=\"place\",\n",
    "             diag_kind=\"kde\")"
   ]
  },
  {
   "cell_type": "code",
   "execution_count": null,
   "metadata": {},
   "outputs": [],
   "source": [
    "# Run the D'Agostino K-squared (skew+kurotsis) test\n",
    "\n",
    "p_target = .05  # if the p-value is less that this, we fail the test\n",
    "\n",
    "for iv in iv_names:\n",
    "    data = quakes[iv]\n",
    "    statistic, p = scipy.stats.normaltest(data)\n",
    "    if p < p_target:\n",
    "        result = 'FAILED. SAD!'\n",
    "    else:\n",
    "        result = 'passed'\n",
    "    print(\"\\tfeature: {:<10} {:<20} p={:<10}\".\n",
    "          format(iv, result, round(p, 4)))"
   ]
  },
  {
   "cell_type": "code",
   "execution_count": null,
   "metadata": {},
   "outputs": [],
   "source": [
    "# create a plot object\n",
    "plt.figure()\n",
    "\n",
    "# set up the rows/columns for our plot object\n",
    "cols = 3\n",
    "rows = math.ceil(len(iv_names)/cols)\n",
    "\n",
    "row = 1\n",
    "col = 1\n",
    "subplot = 1\n",
    "for iv in iv_names:\n",
    "    data = df[iv]  # grab the data\n",
    "    plt.subplot(rows, cols, subplot)  # create the subplot object\n",
    "    scipy.stats.probplot(data, plot=plt)  # stuff it w/ data\n",
    "    plt.title(iv)  # give it a nice title\n",
    "    # reset indices\n",
    "    col += 1\n",
    "    if col > cols:\n",
    "        col = 1\n",
    "        row += 1\n",
    "    subplot += 1\n",
    "\n",
    "# spruce it up aesthetically\n",
    "fig = plt.gcf()  # get current figure - figure object is main container\n",
    "fig.canvas.set_window_title(\"Q-Q Charts\")\n",
    "\n",
    "plt.tight_layout()  # alternative:  plt.subplots_adjust()"
   ]
  },
  {
   "cell_type": "code",
   "execution_count": null,
   "metadata": {},
   "outputs": [],
   "source": [
    "# Hmmm ... a little sketchy, but let's forge on."
   ]
  },
  {
   "cell_type": "code",
   "execution_count": null,
   "metadata": {},
   "outputs": [],
   "source": [
    "# spin up an instance of the LDA model\n",
    "from sklearn.discriminant_analysis import LinearDiscriminantAnalysis as LDA\n",
    "\n",
    "lda = LDA(n_components=2)"
   ]
  },
  {
   "cell_type": "code",
   "execution_count": null,
   "metadata": {},
   "outputs": [],
   "source": [
    "# split the data file\n",
    "from sklearn.model_selection import train_test_split\n",
    "\n",
    "# could do this manually, but it's built-in.  \".5\" makes a 50/50 split\n",
    "train, test = train_test_split(quakes, test_size=.5)\n",
    "\n",
    "train_data = train[['depth', 'mag']].values\n",
    "train_class_ix = train['place_ix']\n",
    "\n",
    "test_data = test[['depth', 'mag']].values\n",
    "test_class_ix = test['place_ix']\n",
    "# train_data"
   ]
  },
  {
   "cell_type": "code",
   "execution_count": null,
   "metadata": {},
   "outputs": [],
   "source": [
    "# use fit() to produce component vectors\n",
    "train_result = lda.fit(train_data, train_class_ix)\n",
    "\n",
    "# raw_data = quakes[iv_names].values  #a ndarray.\n",
    "tlda_result = train_result.transform(train_data)\n",
    "\n",
    "#train_success_rate=train_result.score(train_data, train_class_ix)\n",
    "print(\"Training success rate:\", round(train_success_rate, 2))"
   ]
  },
  {
   "cell_type": "code",
   "execution_count": null,
   "metadata": {},
   "outputs": [],
   "source": [
    "# Analyze the withheld test data against training model\n",
    "test_success_rate = train_result.score(test_data, test_class_ix)\n",
    "print(\"Test success rate ('naive' data):\", round(test_success_rate, 2))"
   ]
  }
 ],
 "metadata": {
  "kernelspec": {
   "display_name": "Python 3 (ipykernel)",
   "language": "python",
   "name": "python3"
  },
  "language_info": {
   "codemirror_mode": {
    "name": "ipython",
    "version": 3
   },
   "file_extension": ".py",
   "mimetype": "text/x-python",
   "name": "python",
   "nbconvert_exporter": "python",
   "pygments_lexer": "ipython3",
   "version": "3.9.5"
  },
  "toc": {
   "base_numbering": 1,
   "nav_menu": {},
   "number_sections": true,
   "sideBar": true,
   "skip_h1_title": false,
   "title_cell": "Table of Contents",
   "title_sidebar": "Contents",
   "toc_cell": true,
   "toc_position": {},
   "toc_section_display": true,
   "toc_window_display": true
  }
 },
 "nbformat": 4,
 "nbformat_minor": 2
}
